{
 "cells": [
  {
   "cell_type": "markdown",
   "metadata": {
    "id": "WBk0ZDWY-ff8"
   },
   "source": [
    "<table align=\"center\">\n",
    "  <td align=\"center\"><a target=\"_blank\" href=\"http://introtodeeplearning.com\">\n",
    "        <img src=\"https://i.ibb.co/Jr88sn2/mit.png\" style=\"padding-bottom:5px;\" />\n",
    "      Visit MIT Deep Learning</a></td>\n",
    "  <td align=\"center\"><a target=\"_blank\" href=\"https://colab.research.google.com/github/aamini/introtodeeplearning/blob/master/lab1/solutions/Part1_TensorFlow_Solution.ipynb\">\n",
    "        <img src=\"https://i.ibb.co/2P3SLwK/colab.png\"  style=\"padding-bottom:5px;\" />Run in Google Colab</a></td>\n",
    "  <td align=\"center\"><a target=\"_blank\" href=\"https://github.com/aamini/introtodeeplearning/blob/master/lab1/solutions/Part1_TensorFlow_solution.ipynb\">\n",
    "        <img src=\"https://i.ibb.co/xfJbPmL/github.png\"  height=\"70px\" style=\"padding-bottom:5px;\"  />View Source on GitHub</a></td>\n",
    "</table>\n",
    "\n",
    "# Copyright Information\n"
   ]
  },
  {
   "cell_type": "code",
   "execution_count": null,
   "metadata": {
    "id": "3eI6DUic-6jo"
   },
   "outputs": [],
   "source": [
    "# Copyright 2022 MIT 6.S191 Introduction to Deep Learning. All Rights Reserved.\n",
    "# \n",
    "# Licensed under the MIT License. You may not use this file except in compliance\n",
    "# with the License. Use and/or modification of this code outside of 6.S191 must\n",
    "# reference:\n",
    "#\n",
    "# © MIT 6.S191: Introduction to Deep Learning\n",
    "# http://introtodeeplearning.com\n",
    "#"
   ]
  },
  {
   "cell_type": "markdown",
   "metadata": {
    "id": "57knM8jrYZ2t"
   },
   "source": [
    "# Lab 1: Intro to TensorFlow and Music Generation with RNNs\n",
    "\n",
    "In this lab, you'll get exposure to using TensorFlow and learn how it can be used for solving deep learning tasks. Go through the code and run each cell. Along the way, you'll encounter several ***TODO*** blocks -- follow the instructions to fill them out before running those cells and continuing.\n",
    "\n",
    "\n",
    "# Part 1: Intro to TensorFlow\n",
    "\n",
    "## 0.1 Install TensorFlow\n",
    "\n",
    "TensorFlow is a software library extensively used in machine learning. Here we'll learn how computations are represented and how to define a simple neural network in TensorFlow. For all the labs in 6.S191 2022, we'll be using the latest version of TensorFlow, TensorFlow 2, which affords great flexibility and the ability to imperatively execute operations, just like in Python. You'll notice that TensorFlow 2 is quite similar to Python in its syntax and imperative execution. Let's install TensorFlow and a couple of dependencies.\n"
   ]
  },
  {
   "cell_type": "code",
   "execution_count": 3,
   "metadata": {
    "id": "LkaimNJfYZ2w"
   },
   "outputs": [
    {
     "name": "stdout",
     "output_type": "stream",
     "text": [
      "Collecting tensorflow\n",
      "  Downloading tensorflow-2.9.1-cp39-cp39-macosx_10_14_x86_64.whl (228.5 MB)\n",
      "\u001b[K     |████████████████████████████████| 228.5 MB 18 kB/s  eta 0:00:011    |████████████▏                   | 86.9 MB 66.7 MB/s eta 0:00:03�██████████▊        | 169.5 MB 34.6 MB/s eta 0:00:02     |█████████████████████████▉      | 184.8 MB 61.2 MB/s eta 0:00:01\n",
      "\u001b[?25hRequirement already satisfied: wrapt>=1.11.0 in /Users/anand/opt/anaconda3/lib/python3.9/site-packages (from tensorflow) (1.12.1)\n",
      "Collecting tensorboard<2.10,>=2.9\n",
      "  Downloading tensorboard-2.9.1-py3-none-any.whl (5.8 MB)\n",
      "\u001b[K     |████████████████████████████████| 5.8 MB 21.1 MB/s eta 0:00:01\n",
      "\u001b[?25hCollecting google-pasta>=0.1.1\n",
      "  Downloading google_pasta-0.2.0-py3-none-any.whl (57 kB)\n",
      "\u001b[K     |████████████████████████████████| 57 kB 9.0 MB/s  eta 0:00:01\n",
      "\u001b[?25hCollecting opt-einsum>=2.3.2\n",
      "  Downloading opt_einsum-3.3.0-py3-none-any.whl (65 kB)\n",
      "\u001b[K     |████████████████████████████████| 65 kB 11.2 MB/s eta 0:00:01\n",
      "\u001b[?25hRequirement already satisfied: setuptools in /Users/anand/opt/anaconda3/lib/python3.9/site-packages (from tensorflow) (58.0.4)\n",
      "Collecting termcolor>=1.1.0\n",
      "  Downloading termcolor-1.1.0.tar.gz (3.9 kB)\n",
      "Collecting grpcio<2.0,>=1.24.3\n",
      "  Downloading grpcio-1.47.0-cp39-cp39-macosx_10_10_x86_64.whl (4.4 MB)\n",
      "\u001b[K     |████████████████████████████████| 4.4 MB 20.3 MB/s eta 0:00:01\n",
      "\u001b[?25hCollecting keras<2.10.0,>=2.9.0rc0\n",
      "  Downloading keras-2.9.0-py2.py3-none-any.whl (1.6 MB)\n",
      "\u001b[K     |████████████████████████████████| 1.6 MB 39.6 MB/s eta 0:00:01\n",
      "\u001b[?25hRequirement already satisfied: six>=1.12.0 in /Users/anand/opt/anaconda3/lib/python3.9/site-packages (from tensorflow) (1.16.0)\n",
      "Collecting protobuf<3.20,>=3.9.2\n",
      "  Downloading protobuf-3.19.4-cp39-cp39-macosx_10_9_x86_64.whl (961 kB)\n",
      "\u001b[K     |████████████████████████████████| 961 kB 14.6 MB/s eta 0:00:01\n",
      "\u001b[?25hCollecting absl-py>=1.0.0\n",
      "  Downloading absl_py-1.1.0-py3-none-any.whl (123 kB)\n",
      "\u001b[K     |████████████████████████████████| 123 kB 20.0 MB/s eta 0:00:01\n",
      "\u001b[?25hRequirement already satisfied: numpy>=1.20 in /Users/anand/opt/anaconda3/lib/python3.9/site-packages (from tensorflow) (1.20.3)\n",
      "Collecting tensorflow-estimator<2.10.0,>=2.9.0rc0\n",
      "  Downloading tensorflow_estimator-2.9.0-py2.py3-none-any.whl (438 kB)\n",
      "\u001b[K     |████████████████████████████████| 438 kB 27.2 MB/s eta 0:00:01\n",
      "\u001b[?25hCollecting gast<=0.4.0,>=0.2.1\n",
      "  Downloading gast-0.4.0-py3-none-any.whl (9.8 kB)\n",
      "Collecting keras-preprocessing>=1.1.1\n",
      "  Downloading Keras_Preprocessing-1.1.2-py2.py3-none-any.whl (42 kB)\n",
      "\u001b[K     |████████████████████████████████| 42 kB 3.3 MB/s  eta 0:00:01\n",
      "\u001b[?25hCollecting astunparse>=1.6.0\n",
      "  Downloading astunparse-1.6.3-py2.py3-none-any.whl (12 kB)\n",
      "Collecting flatbuffers<2,>=1.12\n",
      "  Downloading flatbuffers-1.12-py2.py3-none-any.whl (15 kB)\n",
      "Requirement already satisfied: packaging in /Users/anand/opt/anaconda3/lib/python3.9/site-packages (from tensorflow) (21.0)\n",
      "Collecting tensorflow-io-gcs-filesystem>=0.23.1\n",
      "  Downloading tensorflow_io_gcs_filesystem-0.26.0-cp39-cp39-macosx_10_14_x86_64.whl (1.6 MB)\n",
      "\u001b[K     |████████████████████████████████| 1.6 MB 16.8 MB/s eta 0:00:01\n",
      "\u001b[?25hRequirement already satisfied: typing-extensions>=3.6.6 in /Users/anand/opt/anaconda3/lib/python3.9/site-packages (from tensorflow) (3.10.0.2)\n",
      "Collecting libclang>=13.0.0\n",
      "  Downloading libclang-14.0.1-py2.py3-none-macosx_10_9_x86_64.whl (13.2 MB)\n",
      "\u001b[K     |████████████████████████████████| 13.2 MB 16.0 MB/s eta 0:00:01\n",
      "\u001b[?25hRequirement already satisfied: h5py>=2.9.0 in /Users/anand/opt/anaconda3/lib/python3.9/site-packages (from tensorflow) (3.2.1)\n",
      "Requirement already satisfied: wheel<1.0,>=0.23.0 in /Users/anand/opt/anaconda3/lib/python3.9/site-packages (from astunparse>=1.6.0->tensorflow) (0.37.0)\n",
      "Collecting google-auth-oauthlib<0.5,>=0.4.1\n",
      "  Downloading google_auth_oauthlib-0.4.6-py2.py3-none-any.whl (18 kB)\n",
      "Collecting tensorboard-data-server<0.7.0,>=0.6.0\n",
      "  Downloading tensorboard_data_server-0.6.1-py3-none-macosx_10_9_x86_64.whl (3.5 MB)\n",
      "\u001b[K     |████████████████████████████████| 3.5 MB 24.2 MB/s eta 0:00:01\n",
      "\u001b[?25hRequirement already satisfied: werkzeug>=1.0.1 in /Users/anand/opt/anaconda3/lib/python3.9/site-packages (from tensorboard<2.10,>=2.9->tensorflow) (2.0.2)\n",
      "Requirement already satisfied: requests<3,>=2.21.0 in /Users/anand/opt/anaconda3/lib/python3.9/site-packages (from tensorboard<2.10,>=2.9->tensorflow) (2.26.0)\n",
      "Collecting google-auth<3,>=1.6.3\n",
      "  Downloading google_auth-2.9.0-py2.py3-none-any.whl (167 kB)\n",
      "\u001b[K     |████████████████████████████████| 167 kB 16.6 MB/s eta 0:00:01\n",
      "\u001b[?25hCollecting tensorboard-plugin-wit>=1.6.0\n",
      "  Downloading tensorboard_plugin_wit-1.8.1-py3-none-any.whl (781 kB)\n",
      "\u001b[K     |████████████████████████████████| 781 kB 11.0 MB/s eta 0:00:01\n",
      "\u001b[?25hCollecting markdown>=2.6.8\n",
      "  Downloading Markdown-3.3.7-py3-none-any.whl (97 kB)\n",
      "\u001b[K     |████████████████████████████████| 97 kB 8.8 MB/s  eta 0:00:01\n",
      "\u001b[?25hCollecting pyasn1-modules>=0.2.1\n",
      "  Downloading pyasn1_modules-0.2.8-py2.py3-none-any.whl (155 kB)\n",
      "\u001b[K     |████████████████████████████████| 155 kB 31.0 MB/s eta 0:00:01\n",
      "\u001b[?25hCollecting cachetools<6.0,>=2.0.0\n",
      "  Downloading cachetools-5.2.0-py3-none-any.whl (9.3 kB)\n",
      "Collecting rsa<5,>=3.1.4\n",
      "  Downloading rsa-4.8-py3-none-any.whl (39 kB)\n",
      "Collecting requests-oauthlib>=0.7.0\n",
      "  Downloading requests_oauthlib-1.3.1-py2.py3-none-any.whl (23 kB)\n",
      "Requirement already satisfied: importlib-metadata>=4.4 in /Users/anand/opt/anaconda3/lib/python3.9/site-packages (from markdown>=2.6.8->tensorboard<2.10,>=2.9->tensorflow) (4.8.1)\n",
      "Requirement already satisfied: zipp>=0.5 in /Users/anand/opt/anaconda3/lib/python3.9/site-packages (from importlib-metadata>=4.4->markdown>=2.6.8->tensorboard<2.10,>=2.9->tensorflow) (3.6.0)\n",
      "Collecting pyasn1<0.5.0,>=0.4.6\n",
      "  Downloading pyasn1-0.4.8-py2.py3-none-any.whl (77 kB)\n",
      "\u001b[K     |████████████████████████████████| 77 kB 8.7 MB/s  eta 0:00:01\n",
      "\u001b[?25hRequirement already satisfied: idna<4,>=2.5 in /Users/anand/opt/anaconda3/lib/python3.9/site-packages (from requests<3,>=2.21.0->tensorboard<2.10,>=2.9->tensorflow) (3.2)\n",
      "Requirement already satisfied: urllib3<1.27,>=1.21.1 in /Users/anand/opt/anaconda3/lib/python3.9/site-packages (from requests<3,>=2.21.0->tensorboard<2.10,>=2.9->tensorflow) (1.26.7)\n",
      "Requirement already satisfied: certifi>=2017.4.17 in /Users/anand/opt/anaconda3/lib/python3.9/site-packages (from requests<3,>=2.21.0->tensorboard<2.10,>=2.9->tensorflow) (2021.10.8)\n",
      "Requirement already satisfied: charset-normalizer~=2.0.0 in /Users/anand/opt/anaconda3/lib/python3.9/site-packages (from requests<3,>=2.21.0->tensorboard<2.10,>=2.9->tensorflow) (2.0.4)\n",
      "Collecting oauthlib>=3.0.0\n",
      "  Downloading oauthlib-3.2.0-py3-none-any.whl (151 kB)\n",
      "\u001b[K     |████████████████████████████████| 151 kB 35.3 MB/s eta 0:00:01\n",
      "\u001b[?25hRequirement already satisfied: pyparsing>=2.0.2 in /Users/anand/opt/anaconda3/lib/python3.9/site-packages (from packaging->tensorflow) (3.0.4)\n",
      "Building wheels for collected packages: termcolor\n",
      "  Building wheel for termcolor (setup.py) ... \u001b[?25ldone\n",
      "\u001b[?25h  Created wheel for termcolor: filename=termcolor-1.1.0-py3-none-any.whl size=4847 sha256=b85608b28ef5bc68998950d279f8e13254a0c60ff88b6c8d6f7c452c2051dff3\n",
      "  Stored in directory: /Users/anand/Library/Caches/pip/wheels/b6/0d/90/0d1bbd99855f99cb2f6c2e5ff96f8023fad8ec367695f7d72d\n",
      "Successfully built termcolor\n",
      "Installing collected packages: pyasn1, rsa, pyasn1-modules, oauthlib, cachetools, requests-oauthlib, google-auth, tensorboard-plugin-wit, tensorboard-data-server, protobuf, markdown, grpcio, google-auth-oauthlib, absl-py, termcolor, tensorflow-io-gcs-filesystem, tensorflow-estimator, tensorboard, opt-einsum, libclang, keras-preprocessing, keras, google-pasta, gast, flatbuffers, astunparse, tensorflow\n",
      "Successfully installed absl-py-1.1.0 astunparse-1.6.3 cachetools-5.2.0 flatbuffers-1.12 gast-0.4.0 google-auth-2.9.0 google-auth-oauthlib-0.4.6 google-pasta-0.2.0 grpcio-1.47.0 keras-2.9.0 keras-preprocessing-1.1.2 libclang-14.0.1 markdown-3.3.7 oauthlib-3.2.0 opt-einsum-3.3.0 protobuf-3.19.4 pyasn1-0.4.8 pyasn1-modules-0.2.8 requests-oauthlib-1.3.1 rsa-4.8 tensorboard-2.9.1 tensorboard-data-server-0.6.1 tensorboard-plugin-wit-1.8.1 tensorflow-2.9.1 tensorflow-estimator-2.9.0 tensorflow-io-gcs-filesystem-0.26.0 termcolor-1.1.0\n",
      "Collecting mitdeeplearning\n",
      "  Downloading mitdeeplearning-0.2.0.tar.gz (2.1 MB)\n",
      "\u001b[K     |████████████████████████████████| 2.1 MB 6.2 MB/s eta 0:00:01\n",
      "\u001b[?25hRequirement already satisfied: numpy in /Users/anand/opt/anaconda3/lib/python3.9/site-packages (from mitdeeplearning) (1.20.3)\n",
      "Requirement already satisfied: regex in /Users/anand/opt/anaconda3/lib/python3.9/site-packages (from mitdeeplearning) (2021.8.3)\n",
      "Requirement already satisfied: tqdm in /Users/anand/opt/anaconda3/lib/python3.9/site-packages (from mitdeeplearning) (4.62.3)\n",
      "Collecting gym\n",
      "  Downloading gym-0.24.1.tar.gz (696 kB)\n",
      "\u001b[K     |████████████████████████████████| 696 kB 30.1 MB/s eta 0:00:01\n",
      "\u001b[?25h  Installing build dependencies ... \u001b[?25ldone\n",
      "\u001b[?25h  Getting requirements to build wheel ... \u001b[?25ldone\n",
      "\u001b[?25h    Preparing wheel metadata ... \u001b[?25ldone\n",
      "\u001b[?25hRequirement already satisfied: importlib-metadata>=4.8.0 in /Users/anand/opt/anaconda3/lib/python3.9/site-packages (from gym->mitdeeplearning) (4.8.1)\n",
      "Collecting gym-notices>=0.0.4\n",
      "  Downloading gym_notices-0.0.7-py3-none-any.whl (2.7 kB)\n",
      "Requirement already satisfied: cloudpickle>=1.2.0 in /Users/anand/opt/anaconda3/lib/python3.9/site-packages (from gym->mitdeeplearning) (2.0.0)\n",
      "Requirement already satisfied: zipp>=0.5 in /Users/anand/opt/anaconda3/lib/python3.9/site-packages (from importlib-metadata>=4.8.0->gym->mitdeeplearning) (3.6.0)\n",
      "Building wheels for collected packages: mitdeeplearning, gym\n",
      "  Building wheel for mitdeeplearning (setup.py) ... \u001b[?25ldone\n",
      "\u001b[?25h  Created wheel for mitdeeplearning: filename=mitdeeplearning-0.2.0-py3-none-any.whl size=2115442 sha256=d37d5962ec37c5912df3cb79059a87c6da1d4dfc11bdcb080ff9f4565c750f0a\n",
      "  Stored in directory: /Users/anand/Library/Caches/pip/wheels/f9/12/d3/41a2320fec258b2310c7789227b67b8d1840c627ab4fda9f1f\n",
      "  Building wheel for gym (PEP 517) ... \u001b[?25ldone\n",
      "\u001b[?25h  Created wheel for gym: filename=gym-0.24.1-py3-none-any.whl size=793138 sha256=e69dd4f5b8ab576830e77192d574c16f01885272709f3d6e716d57d3d17ed692\n",
      "  Stored in directory: /Users/anand/Library/Caches/pip/wheels/81/10/18/36362eda933f72e09d7c60b5fc9eaf22bf5876ee2450d6da60\n",
      "Successfully built mitdeeplearning gym\n",
      "Installing collected packages: gym-notices, gym, mitdeeplearning\n",
      "Successfully installed gym-0.24.1 gym-notices-0.0.7 mitdeeplearning-0.2.0\n"
     ]
    },
    {
     "ename": "ModuleNotFoundError",
     "evalue": "No module named 'cv2'",
     "output_type": "error",
     "traceback": [
      "\u001b[0;31m---------------------------------------------------------------------------\u001b[0m",
      "\u001b[0;31mModuleNotFoundError\u001b[0m                       Traceback (most recent call last)",
      "\u001b[0;32m/var/folders/b5/5mrj1dn539b7brxgk4jr352c0000gn/T/ipykernel_16799/3934402970.py\u001b[0m in \u001b[0;36m<module>\u001b[0;34m\u001b[0m\n\u001b[1;32m      5\u001b[0m \u001b[0;31m# Download and import the MIT 6.S191 package\u001b[0m\u001b[0;34m\u001b[0m\u001b[0;34m\u001b[0m\u001b[0m\n\u001b[1;32m      6\u001b[0m \u001b[0mget_ipython\u001b[0m\u001b[0;34m(\u001b[0m\u001b[0;34m)\u001b[0m\u001b[0;34m.\u001b[0m\u001b[0msystem\u001b[0m\u001b[0;34m(\u001b[0m\u001b[0;34m'pip install mitdeeplearning'\u001b[0m\u001b[0;34m)\u001b[0m\u001b[0;34m\u001b[0m\u001b[0;34m\u001b[0m\u001b[0m\n\u001b[0;32m----> 7\u001b[0;31m \u001b[0;32mimport\u001b[0m \u001b[0mmitdeeplearning\u001b[0m \u001b[0;32mas\u001b[0m \u001b[0mmdl\u001b[0m\u001b[0;34m\u001b[0m\u001b[0;34m\u001b[0m\u001b[0m\n\u001b[0m\u001b[1;32m      8\u001b[0m \u001b[0;34m\u001b[0m\u001b[0m\n\u001b[1;32m      9\u001b[0m \u001b[0;32mimport\u001b[0m \u001b[0mnumpy\u001b[0m \u001b[0;32mas\u001b[0m \u001b[0mnp\u001b[0m\u001b[0;34m\u001b[0m\u001b[0;34m\u001b[0m\u001b[0m\n",
      "\u001b[0;32m~/opt/anaconda3/lib/python3.9/site-packages/mitdeeplearning/__init__.py\u001b[0m in \u001b[0;36m<module>\u001b[0;34m\u001b[0m\n\u001b[1;32m      2\u001b[0m \u001b[0;34m\u001b[0m\u001b[0m\n\u001b[1;32m      3\u001b[0m \u001b[0;32mimport\u001b[0m \u001b[0mmitdeeplearning\u001b[0m\u001b[0;34m.\u001b[0m\u001b[0mlab1\u001b[0m\u001b[0;34m\u001b[0m\u001b[0;34m\u001b[0m\u001b[0m\n\u001b[0;32m----> 4\u001b[0;31m \u001b[0;32mimport\u001b[0m \u001b[0mmitdeeplearning\u001b[0m\u001b[0;34m.\u001b[0m\u001b[0mlab2\u001b[0m\u001b[0;34m\u001b[0m\u001b[0;34m\u001b[0m\u001b[0m\n\u001b[0m\u001b[1;32m      5\u001b[0m \u001b[0;32mimport\u001b[0m \u001b[0mmitdeeplearning\u001b[0m\u001b[0;34m.\u001b[0m\u001b[0mlab3\u001b[0m\u001b[0;34m\u001b[0m\u001b[0;34m\u001b[0m\u001b[0m\n",
      "\u001b[0;32m~/opt/anaconda3/lib/python3.9/site-packages/mitdeeplearning/lab2.py\u001b[0m in \u001b[0;36m<module>\u001b[0;34m\u001b[0m\n\u001b[0;32m----> 1\u001b[0;31m \u001b[0;32mimport\u001b[0m \u001b[0mcv2\u001b[0m\u001b[0;34m\u001b[0m\u001b[0;34m\u001b[0m\u001b[0m\n\u001b[0m\u001b[1;32m      2\u001b[0m \u001b[0;32mimport\u001b[0m \u001b[0mos\u001b[0m\u001b[0;34m\u001b[0m\u001b[0;34m\u001b[0m\u001b[0m\n\u001b[1;32m      3\u001b[0m \u001b[0;32mimport\u001b[0m \u001b[0mmatplotlib\u001b[0m\u001b[0;34m.\u001b[0m\u001b[0mpyplot\u001b[0m \u001b[0;32mas\u001b[0m \u001b[0mplt\u001b[0m\u001b[0;34m\u001b[0m\u001b[0;34m\u001b[0m\u001b[0m\n\u001b[1;32m      4\u001b[0m \u001b[0;32mimport\u001b[0m \u001b[0mnumpy\u001b[0m \u001b[0;32mas\u001b[0m \u001b[0mnp\u001b[0m\u001b[0;34m\u001b[0m\u001b[0;34m\u001b[0m\u001b[0m\n\u001b[1;32m      5\u001b[0m \u001b[0;32mimport\u001b[0m \u001b[0mtensorflow\u001b[0m \u001b[0;32mas\u001b[0m \u001b[0mtf\u001b[0m\u001b[0;34m\u001b[0m\u001b[0;34m\u001b[0m\u001b[0m\n",
      "\u001b[0;31mModuleNotFoundError\u001b[0m: No module named 'cv2'"
     ]
    }
   ],
   "source": [
    "!pip install tensorflow\n",
    "# %tensorflow_version 2.x\n",
    "import tensorflow as tf\n",
    "\n",
    "# Download and import the MIT 6.S191 package\n",
    "!pip install mitdeeplearning\n",
    "import mitdeeplearning as mdl\n",
    "\n",
    "import numpy as np\n",
    "import matplotlib.pyplot as plt"
   ]
  },
  {
   "cell_type": "markdown",
   "metadata": {
    "id": "2QNMcdP4m3Vs"
   },
   "source": [
    "## 1.1 Why is TensorFlow called TensorFlow?\n",
    "\n",
    "TensorFlow is called 'TensorFlow' because it handles the flow (node/mathematical operation) of Tensors, which are data structures that you can think of as multi-dimensional arrays. Tensors are represented as n-dimensional arrays of base dataypes such as a string or integer -- they provide a way to generalize vectors and matrices to higher dimensions.\n",
    "\n",
    "The ```shape``` of a Tensor defines its number of dimensions and the size of each dimension. The ```rank``` of a Tensor provides the number of dimensions (n-dimensions) -- you can also think of this as the Tensor's order or degree.\n",
    "\n",
    "Let's first look at 0-d Tensors, of which a scalar is an example:"
   ]
  },
  {
   "cell_type": "code",
   "execution_count": 11,
   "metadata": {
    "id": "tFxztZQInlAB"
   },
   "outputs": [
    {
     "name": "stdout",
     "output_type": "stream",
     "text": [
      "[1. 2. 3.]\n",
      "`sport` is a 0-d Tensor\n",
      "`number` is a 0-d Tensor\n"
     ]
    }
   ],
   "source": [
    "sport = tf.constant(\"Tennis\", tf.string)\n",
    "number = tf.constant(1.41421356237, tf.float64)\n",
    "num = tf.constant([1,2,3], tf.float16, name=\"num\")\n",
    "\n",
    "print(num.numpy())\n",
    "print(\"`sport` is a {}-d Tensor\".format(tf.rank(sport).numpy()))\n",
    "print(\"`number` is a {}-d Tensor\".format(tf.rank(number).numpy()))"
   ]
  },
  {
   "cell_type": "markdown",
   "metadata": {
    "id": "-dljcPUcoJZ6"
   },
   "source": [
    "Vectors and lists can be used to create 1-d Tensors:"
   ]
  },
  {
   "cell_type": "code",
   "execution_count": 25,
   "metadata": {
    "id": "oaHXABe8oPcO"
   },
   "outputs": [
    {
     "name": "stdout",
     "output_type": "stream",
     "text": [
      "[2 3]\n",
      "1\n",
      "`sports` is a 1-d Tensor with shape: [2]\n",
      "`numbers` is a 2-d Tensor with shape: [2 3]\n"
     ]
    }
   ],
   "source": [
    "sports = tf.constant([\"Tennis\", \"Basketball\"], tf.string)\n",
    "numbers = tf.constant([[3.141592, 1.414213, 2.71821],[3.141592, 1.414213, 2.71821]], tf.float64)\n",
    "\n",
    "print(tf.shape(numbers).numpy())\n",
    "print(tf.rank(sports).numpy())\n",
    "print(\"`sports` is a {}-d Tensor with shape: {}\".format(tf.rank(sports).numpy(), tf.shape(sports)))\n",
    "print(\"`numbers` is a {}-d Tensor with shape: {}\".format(tf.rank(numbers).numpy(), tf.shape(numbers)))"
   ]
  },
  {
   "cell_type": "markdown",
   "metadata": {
    "id": "gvffwkvtodLP"
   },
   "source": [
    "Next we consider creating 2-d (i.e., matrices) and higher-rank Tensors. For examples, in future labs involving image processing and computer vision, we will use 4-d Tensors. Here the dimensions correspond to the number of example images in our batch, image height, image width, and the number of color channels."
   ]
  },
  {
   "cell_type": "code",
   "execution_count": 47,
   "metadata": {
    "id": "tFeBBe1IouS3"
   },
   "outputs": [
    {
     "name": "stdout",
     "output_type": "stream",
     "text": [
      "[3 4]\n"
     ]
    }
   ],
   "source": [
    "### Defining higher-order Tensors ###\n",
    "\n",
    "'''TODO: Define a 2-d Tensor'''\n",
    "matrix = tf.constant([[1.0, 2.0, 3.0, 4.0],[5.0, 6.0, 7.0, 8.0],[5.0, 6.0, 7.0, 8.0]], dtype=tf.float64, name = \"matrix\") # TODO\n",
    "print(tf.shape(matrix).numpy())\n",
    "# matrix = # TODO\n",
    "assert isinstance(matrix, tf.Tensor), \"matrix must be a tf Tensor object\"\n",
    "assert tf.rank(matrix).numpy() == 2"
   ]
  },
  {
   "cell_type": "code",
   "execution_count": 59,
   "metadata": {
    "id": "Zv1fTn_Ya_cz"
   },
   "outputs": [
    {
     "name": "stdout",
     "output_type": "stream",
     "text": [
      "[[0 0 0]\n",
      " [0 0 0]]\n"
     ]
    }
   ],
   "source": [
    "'''TODO: Define a 4-d Tensor.'''\n",
    "# Use tf.zeros to initialize a 4-d Tensor of zeros with size 10 x 256 x 256 x 3. \n",
    "#   You can think of this as 10 images where each image is RGB 256 x 256.\n",
    "images = tf.zeros([10, 256, 256, 3]) # TODO\n",
    "# images = # TODO\n",
    "i_data = tf.zeros([2,3],dtype=tf.int64)\n",
    "r_data = tf.range(1,3,.5)\n",
    "print(i_data.numpy())\n",
    "assert isinstance(images, tf.Tensor), \"matrix must be a tf Tensor object\"\n",
    "assert tf.rank(images).numpy() == 4, \"matrix must be of rank 4\"\n",
    "assert tf.shape(images).numpy().tolist() == [10, 256, 256, 3], \"matrix is incorrect shape\""
   ]
  },
  {
   "cell_type": "markdown",
   "metadata": {
    "id": "wkaCDOGapMyl"
   },
   "source": [
    "As you have seen, the ```shape``` of a Tensor provides the number of elements in each Tensor dimension. The ```shape``` is quite useful, and we'll use it often. You can also use slicing to access subtensors within a higher-rank Tensor:"
   ]
  },
  {
   "cell_type": "code",
   "execution_count": 62,
   "metadata": {
    "id": "FhaufyObuLEG"
   },
   "outputs": [
    {
     "name": "stdout",
     "output_type": "stream",
     "text": [
      "`row_vector`: [5. 6. 7. 8.]\n",
      "`column_vector`: [2. 6. 6.]\n",
      "`scalar`: 8.0\n"
     ]
    }
   ],
   "source": [
    "row_vector = matrix[1]\n",
    "column_vector = matrix[:,1]\n",
    "scalar = matrix[1, 3]\n",
    "\n",
    "print(\"`row_vector`: {}\".format(row_vector.numpy()))\n",
    "print(\"`column_vector`: {}\".format(column_vector.numpy()))\n",
    "print(\"`scalar`: {}\".format(scalar.numpy()))"
   ]
  },
  {
   "cell_type": "markdown",
   "metadata": {
    "id": "iD3VO-LZYZ2z"
   },
   "source": [
    "## 1.2 Computations on Tensors\n",
    "\n",
    "A convenient way to think about and visualize computations in TensorFlow is in terms of graphs. We can define this graph in terms of Tensors, which hold data, and the mathematical operations that act on these Tensors in some order. Let's look at a simple example, and define this computation using TensorFlow:\n",
    "\n",
    "![alt text](https://raw.githubusercontent.com/aamini/introtodeeplearning/master/lab1/img/add-graph.png)"
   ]
  },
  {
   "cell_type": "code",
   "execution_count": 63,
   "metadata": {
    "id": "X_YJrZsxYZ2z"
   },
   "outputs": [
    {
     "name": "stdout",
     "output_type": "stream",
     "text": [
      "tf.Tensor(76, shape=(), dtype=int32)\n",
      "tf.Tensor(76, shape=(), dtype=int32)\n"
     ]
    }
   ],
   "source": [
    "# Create the nodes in the graph, and initialize values\n",
    "a = tf.constant(15)\n",
    "b = tf.constant(61)\n",
    "\n",
    "# Add them!\n",
    "c1 = tf.add(a,b)\n",
    "\n",
    "c2 = a + b # TensorFlow overrides the \"+\" operation so that it is able to act on Tensors\n",
    "print(c1)\n",
    "print(c2)"
   ]
  },
  {
   "cell_type": "code",
   "execution_count": 64,
   "metadata": {},
   "outputs": [
    {
     "name": "stdout",
     "output_type": "stream",
     "text": [
      "[4 6]\n"
     ]
    }
   ],
   "source": [
    "a1 = tf.constant([1,2])\n",
    "b1 = tf.constant([3,4])\n",
    "c1 = tf.add(a1,b1)\n",
    "print(c1.numpy())"
   ]
  },
  {
   "cell_type": "markdown",
   "metadata": {
    "id": "Mbfv_QOiYZ23"
   },
   "source": [
    "Notice how we've created a computation graph consisting of TensorFlow operations, and how  the output is a Tensor with value 76 -- we've just created a computation graph consisting of operations, and it's executed them and given us back the result.\n",
    "\n",
    "Now let's consider a slightly more complicated example:\n",
    "\n",
    "![alt text](https://raw.githubusercontent.com/aamini/introtodeeplearning/master/lab1/img/computation-graph.png)\n",
    "\n",
    "Here, we take two inputs, `a, b`, and compute an output `e`. Each node in the graph represents an operation that takes some input, does some computation, and passes its output to another node.\n",
    "\n",
    "Let's define a simple function in TensorFlow to construct this computation function:"
   ]
  },
  {
   "cell_type": "code",
   "execution_count": 66,
   "metadata": {
    "id": "PJnfzpWyYZ23",
    "scrolled": true
   },
   "outputs": [],
   "source": [
    "### Defining Tensor computations ###\n",
    "\n",
    "# Construct a simple computation function\n",
    "def func(a,b):\n",
    "  '''TODO: Define the operation for c, d, e (use tf.add, tf.subtract, tf.multiply).'''\n",
    "  c = tf.add(a, b)\n",
    "  # c = # TODO\n",
    "  d = tf.subtract(b, 1)\n",
    "  # d = # TODO\n",
    "  e = tf.multiply(c, d)\n",
    "  # e = # TODO\n",
    "  return e"
   ]
  },
  {
   "cell_type": "code",
   "execution_count": 75,
   "metadata": {},
   "outputs": [
    {
     "name": "stdout",
     "output_type": "stream",
     "text": [
      "[ 6 16]\n"
     ]
    }
   ],
   "source": [
    "##EXCERCISE\n",
    "def fun_tensor_opr(a,b):\n",
    "    c = tf.add(a,b)\n",
    "    d = tf.subtract(c,2)\n",
    "    d = tf.multiply(d, [3,4])\n",
    "    return d\n",
    "d = fun_tensor_opr(a1,b1)\n",
    "print(d.numpy())\n",
    "tf.debugging.set_log_device_placement(True)\n"
   ]
  },
  {
   "cell_type": "markdown",
   "metadata": {
    "id": "AwrRfDMS2-oy"
   },
   "source": [
    "Now, we can call this function to execute the computation graph given some inputs `a,b`:"
   ]
  },
  {
   "cell_type": "code",
   "execution_count": null,
   "metadata": {
    "id": "pnwsf8w2uF7p"
   },
   "outputs": [],
   "source": [
    "# Consider example values for a,b\n",
    "a, b = 1.5, 2.5\n",
    "# Execute the computation\n",
    "e_out = func(a,b)\n",
    "print(e_out)"
   ]
  },
  {
   "cell_type": "markdown",
   "metadata": {
    "id": "6HqgUIUhYZ29"
   },
   "source": [
    "Notice how our output is a Tensor with value defined by the output of the computation, and that the output has no shape as it is a single scalar value."
   ]
  },
  {
   "cell_type": "markdown",
   "metadata": {
    "id": "1h4o9Bb0YZ29"
   },
   "source": [
    "## 1.3 Neural networks in TensorFlow\n",
    "We can also define neural networks in TensorFlow. TensorFlow uses a high-level API called [Keras](https://www.tensorflow.org/guide/keras) that provides a powerful, intuitive framework for building and training deep learning models.\n",
    "\n",
    "Let's first consider the example of a simple perceptron defined by just one dense layer: $ y = \\sigma(Wx + b)$, where $W$ represents a matrix of weights, $b$ is a bias, $x$ is the input, $\\sigma$ is the sigmoid activation function, and $y$ is the output. We can also visualize this operation using a graph: \n",
    "\n",
    "![alt text](https://raw.githubusercontent.com/aamini/introtodeeplearning/master/lab1/img/computation-graph-2.png)\n",
    "\n",
    "Tensors can flow through abstract types called [```Layers```](https://www.tensorflow.org/api_docs/python/tf/keras/layers/Layer) -- the building blocks of neural networks. ```Layers``` implement common neural networks operations, and are used to update weights, compute losses, and define inter-layer connectivity. We will first define a ```Layer``` to implement the simple perceptron defined above."
   ]
  },
  {
   "cell_type": "code",
   "execution_count": 76,
   "metadata": {
    "id": "HutbJk-1kHPh"
   },
   "outputs": [
    {
     "name": "stdout",
     "output_type": "stream",
     "text": [
      "[[0.26978594 0.45750415 0.6653695 ]]\n"
     ]
    },
    {
     "ename": "NameError",
     "evalue": "name 'mdl' is not defined",
     "output_type": "error",
     "traceback": [
      "\u001b[0;31m---------------------------------------------------------------------------\u001b[0m",
      "\u001b[0;31mNameError\u001b[0m                                 Traceback (most recent call last)",
      "\u001b[0;32m/var/folders/b5/5mrj1dn539b7brxgk4jr352c0000gn/T/ipykernel_16799/2561069027.py\u001b[0m in \u001b[0;36m<module>\u001b[0;34m\u001b[0m\n\u001b[1;32m     36\u001b[0m \u001b[0;31m# test the output!\u001b[0m\u001b[0;34m\u001b[0m\u001b[0;34m\u001b[0m\u001b[0m\n\u001b[1;32m     37\u001b[0m \u001b[0mprint\u001b[0m\u001b[0;34m(\u001b[0m\u001b[0my\u001b[0m\u001b[0;34m.\u001b[0m\u001b[0mnumpy\u001b[0m\u001b[0;34m(\u001b[0m\u001b[0;34m)\u001b[0m\u001b[0;34m)\u001b[0m\u001b[0;34m\u001b[0m\u001b[0;34m\u001b[0m\u001b[0m\n\u001b[0;32m---> 38\u001b[0;31m \u001b[0mmdl\u001b[0m\u001b[0;34m.\u001b[0m\u001b[0mlab1\u001b[0m\u001b[0;34m.\u001b[0m\u001b[0mtest_custom_dense_layer_output\u001b[0m\u001b[0;34m(\u001b[0m\u001b[0my\u001b[0m\u001b[0;34m)\u001b[0m\u001b[0;34m\u001b[0m\u001b[0;34m\u001b[0m\u001b[0m\n\u001b[0m",
      "\u001b[0;31mNameError\u001b[0m: name 'mdl' is not defined"
     ]
    }
   ],
   "source": [
    "### Defining a network Layer ###\n",
    "\n",
    "# n_output_nodes: number of output nodes\n",
    "# input_shape: shape of the input\n",
    "# x: input to the layer\n",
    "\n",
    "class OurDenseLayer(tf.keras.layers.Layer):\n",
    "  def __init__(self, n_output_nodes):\n",
    "    super(OurDenseLayer, self).__init__()\n",
    "    self.n_output_nodes = n_output_nodes\n",
    "\n",
    "  def build(self, input_shape):\n",
    "    d = int(input_shape[-1])\n",
    "    # Define and initialize parameters: a weight matrix W and bias b\n",
    "    # Note that parameter initialization is random!\n",
    "    self.W = self.add_weight(\"weight\", shape=[d, self.n_output_nodes]) # note the dimensionality\n",
    "    self.b = self.add_weight(\"bias\", shape=[1, self.n_output_nodes]) # note the dimensionality\n",
    "\n",
    "  def call(self, x):\n",
    "    '''TODO: define the operation for z (hint: use tf.matmul)'''\n",
    "    z = tf.matmul(x, self.W) + self.b # TODO\n",
    "    # z = # TODO\n",
    "\n",
    "    '''TODO: define the operation for out (hint: use tf.sigmoid)'''\n",
    "    y = tf.sigmoid(z) # TODO\n",
    "    # y = # TODO\n",
    "    return y\n",
    "\n",
    "# Since layer parameters are initialized randomly, we will set a random seed for reproducibility\n",
    "tf.random.set_seed(1)\n",
    "layer = OurDenseLayer(3)\n",
    "layer.build((1,2))\n",
    "x_input = tf.constant([[1,2.]], shape=(1,2))\n",
    "y = layer.call(x_input)\n",
    "\n",
    "# test the output!\n",
    "print(y.numpy())\n",
    "mdl.lab1.test_custom_dense_layer_output(y)"
   ]
  },
  {
   "cell_type": "markdown",
   "metadata": {
    "id": "Jt1FgM7qYZ3D"
   },
   "source": [
    "Conveniently, TensorFlow has defined a number of ```Layers``` that are commonly used in neural networks, for example a [```Dense```](https://www.tensorflow.org/api_docs/python/tf/keras/layers/Dense?version=stable). Now, instead of using a single ```Layer``` to define our simple neural network, we'll use the  [`Sequential`](https://www.tensorflow.org/versions/r2.0/api_docs/python/tf/keras/Sequential) model from Keras and a single [`Dense` ](https://www.tensorflow.org/versions/r2.0/api_docs/python/tf/keras/layers/Dense) layer to define our network. With the `Sequential` API, you can readily create neural networks by stacking together layers like building blocks. "
   ]
  },
  {
   "cell_type": "code",
   "execution_count": null,
   "metadata": {
    "id": "7WXTpmoL6TDz"
   },
   "outputs": [],
   "source": [
    "### Defining a neural network using the Sequential API ###\n",
    "\n",
    "# Import relevant packages\n",
    "from tensorflow.keras import Sequential\n",
    "from tensorflow.keras.layers import Dense\n",
    "\n",
    "# Define the number of outputs\n",
    "n_output_nodes = 3\n",
    "\n",
    "# First define the model \n",
    "model = Sequential()\n",
    "\n",
    "'''TODO: Define a dense (fully connected) layer to compute z'''\n",
    "# Remember: dense layers are defined by the parameters W and b!\n",
    "# You can read more about the initialization of W and b in the TF documentation :) \n",
    "# https://www.tensorflow.org/api_docs/python/tf/keras/layers/Dense?version=stable\n",
    "dense_layer = Dense(n_output_nodes, activation='sigmoid') # TODO\n",
    "# dense_layer = # TODO\n",
    "\n",
    "# Add the dense layer to the model\n",
    "model.add(dense_layer)\n"
   ]
  },
  {
   "cell_type": "markdown",
   "metadata": {
    "id": "HDGcwYfUyR-U"
   },
   "source": [
    "That's it! We've defined our model using the Sequential API. Now, we can test it out using an example input:"
   ]
  },
  {
   "cell_type": "code",
   "execution_count": null,
   "metadata": {
    "id": "sg23OczByRDb"
   },
   "outputs": [],
   "source": [
    "# Test model with example input\n",
    "x_input = tf.constant([[1,2.]], shape=(1,2))\n",
    "\n",
    "'''TODO: feed input into the model and predict the output!'''\n",
    "model_output = model(x_input).numpy()\n",
    "# model_output = # TODO\n",
    "print(model_output)"
   ]
  },
  {
   "cell_type": "markdown",
   "metadata": {
    "id": "596NvsOOtr9F"
   },
   "source": [
    "In addition to defining models using the `Sequential` API, we can also define neural networks by directly subclassing the [`Model`](https://www.tensorflow.org/api_docs/python/tf/keras/Model?version=stable) class, which groups layers together to enable model training and inference. The `Model` class captures what we refer to as a \"model\" or as a \"network\". Using Subclassing, we can create a class for our model, and then define the forward pass through the network using the `call` function. Subclassing affords the flexibility to define custom layers, custom training loops, custom activation functions, and custom models. Let's define the same neural network as above now using Subclassing rather than the `Sequential` model."
   ]
  },
  {
   "cell_type": "code",
   "execution_count": null,
   "metadata": {
    "id": "K4aCflPVyViD"
   },
   "outputs": [],
   "source": [
    "### Defining a model using subclassing ###\n",
    "\n",
    "from tensorflow.keras import Model\n",
    "from tensorflow.keras.layers import Dense\n",
    "\n",
    "class SubclassModel(tf.keras.Model):\n",
    "\n",
    "  # In __init__, we define the Model's layers\n",
    "  def __init__(self, n_output_nodes):\n",
    "    super(SubclassModel, self).__init__()\n",
    "    '''TODO: Our model consists of a single Dense layer. Define this layer.''' \n",
    "    self.dense_layer = Dense(n_output_nodes, activation='sigmoid') # TODO\n",
    "    # self.dense_layer = '''TODO: Dense Layer'''\n",
    "\n",
    "  # In the call function, we define the Model's forward pass.\n",
    "  def call(self, inputs):\n",
    "    return self.dense_layer(inputs)"
   ]
  },
  {
   "cell_type": "markdown",
   "metadata": {
    "id": "U0-lwHDk4irB"
   },
   "source": [
    "Just like the model we built using the `Sequential` API, let's test out our `SubclassModel` using an example input.\n",
    "\n"
   ]
  },
  {
   "cell_type": "code",
   "execution_count": null,
   "metadata": {
    "id": "LhB34RA-4gXb"
   },
   "outputs": [],
   "source": [
    "n_output_nodes = 3\n",
    "model = SubclassModel(n_output_nodes)\n",
    "\n",
    "x_input = tf.constant([[1,2.]], shape=(1,2))\n",
    "\n",
    "print(model.call(x_input))"
   ]
  },
  {
   "cell_type": "markdown",
   "metadata": {
    "id": "HTIFMJLAzsyE"
   },
   "source": [
    "Importantly, Subclassing affords us a lot of flexibility to define custom models. For example, we can use boolean arguments in the `call` function to specify different network behaviors, for example different behaviors during training and inference. Let's suppose under some instances we want our network to simply output the input, without any perturbation. We define a boolean argument `isidentity` to control this behavior:"
   ]
  },
  {
   "cell_type": "code",
   "execution_count": null,
   "metadata": {
    "id": "P7jzGX5D1xT5"
   },
   "outputs": [],
   "source": [
    "### Defining a model using subclassing and specifying custom behavior ###\n",
    "\n",
    "from tensorflow.keras import Model\n",
    "from tensorflow.keras.layers import Dense\n",
    "\n",
    "class IdentityModel(tf.keras.Model):\n",
    "\n",
    "  # As before, in __init__ we define the Model's layers\n",
    "  # Since our desired behavior involves the forward pass, this part is unchanged\n",
    "  def __init__(self, n_output_nodes):\n",
    "    super(IdentityModel, self).__init__()\n",
    "    self.dense_layer = tf.keras.layers.Dense(n_output_nodes, activation='sigmoid')\n",
    "\n",
    "  '''TODO: Implement the behavior where the network outputs the input, unchanged, under control of the isidentity argument.'''\n",
    "  def call(self, inputs, isidentity=False):\n",
    "    x = self.dense_layer(inputs)\n",
    "    if isidentity: # TODO\n",
    "      return inputs # TODO\n",
    "    return x\n",
    "  \n",
    "  # def call(self, inputs, isidentity=False):\n",
    "    # TODO"
   ]
  },
  {
   "cell_type": "markdown",
   "metadata": {
    "id": "Ku4rcCGx5T3y"
   },
   "source": [
    "Let's test this behavior:"
   ]
  },
  {
   "cell_type": "code",
   "execution_count": null,
   "metadata": {
    "id": "NzC0mgbk5dp2"
   },
   "outputs": [],
   "source": [
    "n_output_nodes = 3\n",
    "model = IdentityModel(n_output_nodes)\n",
    "\n",
    "x_input = tf.constant([[1,2.]], shape=(1,2))\n",
    "'''TODO: pass the input into the model and call with and without the input identity option.'''\n",
    "out_activate = model.call(x_input) # TODO\n",
    "# out_activate = # TODO\n",
    "out_identity = model.call(x_input, isidentity=True) # TODO\n",
    "# out_identity = # TODO\n",
    "\n",
    "print(\"Network output with activation: {}; network identity output: {}\".format(out_activate.numpy(), out_identity.numpy()))"
   ]
  },
  {
   "cell_type": "markdown",
   "metadata": {
    "id": "7V1dEqdk6VI5"
   },
   "source": [
    "Now that we have learned how to define `Layers` as well as neural networks in TensorFlow using both the `Sequential` and Subclassing APIs, we're ready to turn our attention to how to actually implement network training with backpropagation."
   ]
  },
  {
   "cell_type": "markdown",
   "metadata": {
    "id": "dQwDhKn8kbO2"
   },
   "source": [
    "## 1.4 Automatic differentiation in TensorFlow\n",
    "\n",
    "[Automatic differentiation](https://en.wikipedia.org/wiki/Automatic_differentiation)\n",
    "is one of the most important parts of TensorFlow and is the backbone of training with \n",
    "[backpropagation](https://en.wikipedia.org/wiki/Backpropagation). We will use the TensorFlow GradientTape [`tf.GradientTape`](https://www.tensorflow.org/api_docs/python/tf/GradientTape?version=stable) to trace operations for computing gradients later. \n",
    "\n",
    "When a forward pass is made through the network, all forward-pass operations get recorded to a \"tape\"; then, to compute the gradient, the tape is played backwards. By default, the tape is discarded after it is played backwards; this means that a particular `tf.GradientTape` can only\n",
    "compute one gradient, and subsequent calls throw a runtime error. However, we can compute multiple gradients over the same computation by creating a ```persistent``` gradient tape. \n",
    "\n",
    "First, we will look at how we can compute gradients using GradientTape and access them for computation. We define the simple function $ y = x^2$ and compute the gradient:"
   ]
  },
  {
   "cell_type": "code",
   "execution_count": 79,
   "metadata": {
    "id": "tdkqk8pw5yJM"
   },
   "outputs": [],
   "source": [
    "### Gradient computation with GradientTape ###\n",
    "\n",
    "# y = x^2\n",
    "# Example: x = 3.0\n",
    "x = tf.Variable(3.0)\n",
    "\n",
    "# Initiate the gradient tape\n",
    "with tf.GradientTape() as tape:\n",
    "  # Define the function\n",
    "  y = x * x\n",
    "# Access the gradient -- derivative of y with respect to x\n",
    "dy_dx = tape.gradient(y, x)\n",
    "\n",
    "assert dy_dx.numpy() == 6.0"
   ]
  },
  {
   "cell_type": "markdown",
   "metadata": {
    "id": "JhU5metS5xF3"
   },
   "source": [
    "In training neural networks, we use differentiation and stochastic gradient descent (SGD) to optimize a loss function. Now that we have a sense of how `GradientTape` can be used to compute and access derivatives, we will look at an example where we use automatic differentiation and SGD to find the minimum of $L=(x-x_f)^2$. Here $x_f$ is a variable for a desired value we are trying to optimize for; $L$ represents a loss that we are trying to  minimize. While we can clearly solve this problem analytically ($x_{min}=x_f$), considering how we can compute this using `GradientTape` sets us up nicely for future labs where we use gradient descent to optimize entire neural network losses."
   ]
  },
  {
   "cell_type": "code",
   "execution_count": null,
   "metadata": {
    "attributes": {
     "classes": [
      "py"
     ],
     "id": ""
    },
    "id": "7g1yWiSXqEf-"
   },
   "outputs": [],
   "source": [
    "### Function minimization with automatic differentiation and SGD ###\n",
    "\n",
    "# Initialize a random value for our initial x\n",
    "x = tf.Variable([tf.random.normal([1])])\n",
    "print(\"Initializing x={}\".format(x.numpy()))\n",
    "\n",
    "learning_rate = 1e-2 # learning rate for SGD\n",
    "history = []\n",
    "# Define the target value\n",
    "x_f = 4\n",
    "\n",
    "# We will run SGD for a number of iterations. At each iteration, we compute the loss, \n",
    "#   compute the derivative of the loss with respect to x, and perform the SGD update.\n",
    "for i in range(500):\n",
    "  with tf.GradientTape() as tape:\n",
    "    '''TODO: define the loss as described above'''\n",
    "    loss = (x - x_f)**2 # \"forward pass\": record the current loss on the tape\n",
    "    # loss = # TODO\n",
    "\n",
    "  # loss minimization using gradient tape\n",
    "  grad = tape.gradient(loss, x) # compute the derivative of the loss with respect to x\n",
    "  new_x = x - learning_rate*grad # sgd update\n",
    "  x.assign(new_x) # update the value of x\n",
    "  history.append(x.numpy()[0])\n",
    "\n",
    "# Plot the evolution of x as we optimize towards x_f!\n",
    "plt.plot(history)\n",
    "plt.plot([0, 500],[x_f,x_f])\n",
    "plt.legend(('Predicted', 'True'))\n",
    "plt.xlabel('Iteration')\n",
    "plt.ylabel('x value')"
   ]
  },
  {
   "cell_type": "markdown",
   "metadata": {
    "id": "pC7czCwk3ceH"
   },
   "source": [
    "`GradientTape` provides an extremely flexible framework for automatic differentiation. In order to back propagate errors through a neural network, we track forward passes on the Tape, use this information to determine the gradients, and then use these gradients for optimization using SGD."
   ]
  }
 ],
 "metadata": {
  "accelerator": "GPU",
  "colab": {
   "collapsed_sections": [
    "WBk0ZDWY-ff8"
   ],
   "name": "Part1_TensorFlow_Solution.ipynb",
   "provenance": []
  },
  "kernelspec": {
   "display_name": "Python 3 (ipykernel)",
   "language": "python",
   "name": "python3"
  },
  "language_info": {
   "codemirror_mode": {
    "name": "ipython",
    "version": 3
   },
   "file_extension": ".py",
   "mimetype": "text/x-python",
   "name": "python",
   "nbconvert_exporter": "python",
   "pygments_lexer": "ipython3",
   "version": "3.9.7"
  }
 },
 "nbformat": 4,
 "nbformat_minor": 4
}
